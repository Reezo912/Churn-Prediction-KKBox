{
 "cells": [
  {
   "cell_type": "markdown",
   "id": "4c3d4efb",
   "metadata": {},
   "source": [
    "# Preprocess"
   ]
  },
  {
   "cell_type": "markdown",
   "id": "8534cb04",
   "metadata": {},
   "source": [
    "Tras probar con Polars y su LazyFrame, pese a la optimizacion de memoria y de rendimiento que ofrece esta libreria, mi hardware, no permite operaciones con datos de un tamaño tan grande como el de este dataset.\n",
    "\n",
    "Al analizar mis opciones, he decidido usar PySpark, que utiliza operaciones vectorizadas y columnares, para poder trabajar con estas dimensiones de datos. Además utiliza SQL, un lenguaje con el que tengo experiencia.\n"
   ]
  },
  {
   "cell_type": "code",
   "execution_count": null,
   "id": "dfed03af",
   "metadata": {},
   "outputs": [],
   "source": [
    "import pyspark.sql import SparkSession\n",
    "from pathlib import Path"
   ]
  },
  {
   "cell_type": "markdown",
   "id": "c1d936df",
   "metadata": {},
   "source": [
    "Como ya he hecho un analisis de los datos de cada tabla y como unirlos en polars, en este script unicamente hare el pipeline de union para tener un dataset limpio para comenzar mi EDA\n"
   ]
  },
  {
   "cell_type": "code",
   "execution_count": 9,
   "id": "73850065",
   "metadata": {},
   "outputs": [],
   "source": [
    "BASE_DIR = Path.cwd().parent\n",
    "DATA_DIR = (BASE_DIR/'data').resolve()\n",
    "RAW_DIR = (BASE_DIR/'data'/'raw').resolve()\n",
    "PROCESSED_DIR = (BASE_DIR/'data'/'processed').resolve()"
   ]
  },
  {
   "cell_type": "code",
   "execution_count": null,
   "id": "f52ea4df",
   "metadata": {},
   "outputs": [],
   "source": [
    "con = duckdb.connect(DATA_DIR/\"kkbox.duckdb\")\n",
    "\n",
    "con.execute(\"PRAGMA threads=8;\")\n",
    "con.execute(\"PRAGMA memory_limit='6GB';\")        # AJUSTAR RAM SI CAMBIO AL PORTATIL"
   ]
  },
  {
   "cell_type": "code",
   "execution_count": null,
   "id": "c7c46661",
   "metadata": {},
   "outputs": [],
   "source": [
    "    "
   ]
  }
 ],
 "metadata": {
  "kernelspec": {
   "display_name": "DS-IBM",
   "language": "python",
   "name": "python3"
  },
  "language_info": {
   "codemirror_mode": {
    "name": "ipython",
    "version": 3
   },
   "file_extension": ".py",
   "mimetype": "text/x-python",
   "name": "python",
   "nbconvert_exporter": "python",
   "pygments_lexer": "ipython3",
   "version": "3.13.5"
  }
 },
 "nbformat": 4,
 "nbformat_minor": 5
}

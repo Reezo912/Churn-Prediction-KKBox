{
 "cells": [
  {
   "cell_type": "markdown",
   "id": "0bcd50b8",
   "metadata": {},
   "source": [
    "# Preprocesado de Datos"
   ]
  },
  {
   "cell_type": "markdown",
   "id": "9b6b21f4",
   "metadata": {},
   "source": [
    "Para este proyecto usar Polars, es una libreria similar a Pandas, pero optimizada para grandes volumenes de datos\n",
    "\n",
    "Primero cargare cada uno de mis datasets y comprobare como unirlos."
   ]
  },
  {
   "cell_type": "code",
   "execution_count": 1,
   "id": "eb6eb67d",
   "metadata": {},
   "outputs": [],
   "source": [
    "import polars as pl\n",
    "from pathlib import Path"
   ]
  },
  {
   "cell_type": "code",
   "execution_count": 2,
   "id": "4914f01f",
   "metadata": {},
   "outputs": [],
   "source": [
    "BASE_DIR = Path.cwd().parent\n",
    "DATA_DIR = (BASE_DIR / 'data').resolve()\n",
    "RAW_DIR = (DATA_DIR / 'raw').resolve()\n",
    "PROCESSED_DIR = (DATA_DIR / 'processed').resolve()"
   ]
  },
  {
   "cell_type": "markdown",
   "id": "3eddc701",
   "metadata": {},
   "source": [
    "Primero quiero ver una pequena representacion del dataset, para tener contexto de los datos"
   ]
  },
  {
   "cell_type": "code",
   "execution_count": 3,
   "id": "47ab8acf",
   "metadata": {},
   "outputs": [
    {
     "name": "stdout",
     "output_type": "stream",
     "text": [
      "shape: (5, 6)\n",
      "┌─────────────────────────────────┬──────┬─────┬────────┬────────────────┬────────────────────────┐\n",
      "│ msno                            ┆ city ┆ bd  ┆ gender ┆ registered_via ┆ registration_init_time │\n",
      "│ ---                             ┆ ---  ┆ --- ┆ ---    ┆ ---            ┆ ---                    │\n",
      "│ str                             ┆ i64  ┆ i64 ┆ str    ┆ i64            ┆ i64                    │\n",
      "╞═════════════════════════════════╪══════╪═════╪════════╪════════════════╪════════════════════════╡\n",
      "│ Rb9UwLQTrxzBVwCB6+bCcSQWZ9JiNL… ┆ 1    ┆ 0   ┆ null   ┆ 11             ┆ 20110911               │\n",
      "│ +tJonkh+O1CA796Fm5X60UMOtB6POH… ┆ 1    ┆ 0   ┆ null   ┆ 7              ┆ 20110914               │\n",
      "│ cV358ssn7a0f7jZOwGNWS07wCKVqxy… ┆ 1    ┆ 0   ┆ null   ┆ 11             ┆ 20110915               │\n",
      "│ 9bzDeJP6sQodK73K5CBlJ6fgIQzPeL… ┆ 1    ┆ 0   ┆ null   ┆ 11             ┆ 20110915               │\n",
      "│ WFLY3s7z4EZsieHCt63XrsdtfTEmJ+… ┆ 6    ┆ 32  ┆ female ┆ 9              ┆ 20110915               │\n",
      "└─────────────────────────────────┴──────┴─────┴────────┴────────────────┴────────────────────────┘\n",
      "shape: (5, 2)\n",
      "┌─────────────────────────────────┬──────────┐\n",
      "│ msno                            ┆ is_churn │\n",
      "│ ---                             ┆ ---      │\n",
      "│ str                             ┆ i64      │\n",
      "╞═════════════════════════════════╪══════════╡\n",
      "│ ugx0CjOMzazClkFzU2xasmDZaoIqOU… ┆ 1        │\n",
      "│ f/NmvEzHfhINFEYZTR05prUdr+E+3+… ┆ 1        │\n",
      "│ zLo9f73nGGT1p21ltZC3ChiRnAVvgi… ┆ 1        │\n",
      "│ 8iF/+8HY8lJKFrTc7iR9ZYGCG2Ecro… ┆ 1        │\n",
      "│ K6fja4+jmoZ5xG6BypqX80Uw/XKpMg… ┆ 1        │\n",
      "└─────────────────────────────────┴──────────┘\n",
      "shape: (5, 9)\n",
      "┌───────────┬───────────┬───────────┬───────────┬───┬───────────┬───────────┬───────────┬──────────┐\n",
      "│ msno      ┆ payment_m ┆ payment_p ┆ plan_list ┆ … ┆ is_auto_r ┆ transacti ┆ membershi ┆ is_cance │\n",
      "│ ---       ┆ ethod_id  ┆ lan_days  ┆ _price    ┆   ┆ enew      ┆ on_date   ┆ p_expire_ ┆ l        │\n",
      "│ str       ┆ ---       ┆ ---       ┆ ---       ┆   ┆ ---       ┆ ---       ┆ date      ┆ ---      │\n",
      "│           ┆ i64       ┆ i64       ┆ i64       ┆   ┆ i64       ┆ i64       ┆ ---       ┆ i64      │\n",
      "│           ┆           ┆           ┆           ┆   ┆           ┆           ┆ i64       ┆          │\n",
      "╞═══════════╪═══════════╪═══════════╪═══════════╪═══╪═══════════╪═══════════╪═══════════╪══════════╡\n",
      "│ ++6eU4LsQ ┆ 32        ┆ 90        ┆ 298       ┆ … ┆ 0         ┆ 20170131  ┆ 20170504  ┆ 0        │\n",
      "│ 3UQ20ILS7 ┆           ┆           ┆           ┆   ┆           ┆           ┆           ┆          │\n",
      "│ d99XK8Wbi ┆           ┆           ┆           ┆   ┆           ┆           ┆           ┆          │\n",
      "│ Vgb…      ┆           ┆           ┆           ┆   ┆           ┆           ┆           ┆          │\n",
      "│ ++lvGPJOi ┆ 41        ┆ 30        ┆ 149       ┆ … ┆ 1         ┆ 20150809  ┆ 20190412  ┆ 0        │\n",
      "│ nuin/8esg ┆           ┆           ┆           ┆   ┆           ┆           ┆           ┆          │\n",
      "│ hpnqdljm6 ┆           ┆           ┆           ┆   ┆           ┆           ┆           ┆          │\n",
      "│ NXS…      ┆           ┆           ┆           ┆   ┆           ┆           ┆           ┆          │\n",
      "│ +/GXNtXWQ ┆ 36        ┆ 30        ┆ 180       ┆ … ┆ 1         ┆ 20170303  ┆ 20170422  ┆ 0        │\n",
      "│ VfKrEDqYA ┆           ┆           ┆           ┆   ┆           ┆           ┆           ┆          │\n",
      "│ zcSw2xSPY ┆           ┆           ┆           ┆   ┆           ┆           ┆           ┆          │\n",
      "│ MKW…      ┆           ┆           ┆           ┆   ┆           ┆           ┆           ┆          │\n",
      "│ +/w1UrZwy ┆ 36        ┆ 30        ┆ 180       ┆ … ┆ 1         ┆ 20170329  ┆ 20170331  ┆ 1        │\n",
      "│ ka4C9oNH3 ┆           ┆           ┆           ┆   ┆           ┆           ┆           ┆          │\n",
      "│ +Q8fUf3fD ┆           ┆           ┆           ┆   ┆           ┆           ┆           ┆          │\n",
      "│ 8R3…      ┆           ┆           ┆           ┆   ┆           ┆           ┆           ┆          │\n",
      "│ +00PGzKTY ┆ 41        ┆ 30        ┆ 99        ┆ … ┆ 1         ┆ 20170323  ┆ 20170423  ┆ 0        │\n",
      "│ qtnb65mPK ┆           ┆           ┆           ┆   ┆           ┆           ┆           ┆          │\n",
      "│ PyeHXcZEw ┆           ┆           ┆           ┆   ┆           ┆           ┆           ┆          │\n",
      "│ qiE…      ┆           ┆           ┆           ┆   ┆           ┆           ┆           ┆          │\n",
      "└───────────┴───────────┴───────────┴───────────┴───┴───────────┴───────────┴───────────┴──────────┘\n"
     ]
    }
   ],
   "source": [
    "df_members = pl.scan_csv(RAW_DIR/'members_v3.csv')\n",
    "df_train = pl.scan_csv(RAW_DIR/'train_v2.csv')\n",
    "df_transactions = pl.scan_csv(RAW_DIR/'transactions_v2.csv')\n",
    "#df_user_logs = pl.scan_csv(RAW_DIR/'user_logs.csv')\n",
    "\n",
    "print(df_members.head().collect())\n",
    "print(df_train.head().collect())\n",
    "print(df_transactions.head().collect())"
   ]
  },
  {
   "cell_type": "markdown",
   "id": "dcc2f18f",
   "metadata": {},
   "source": [
    "Con esta observacion parcial de mis datasets, puedo ver que tengo una columna llamada *'msno'* que esta formada por strings y es la columna comun en los tres datasets y por donde tendre que hacer el join."
   ]
  },
  {
   "cell_type": "code",
   "execution_count": 4,
   "id": "c6da83d9",
   "metadata": {},
   "outputs": [],
   "source": [
    "def lazy_info(df):\n",
    "    print(f'Shape:\\n', (df.select(pl.len()).collect().item(), df.collect_schema().len()))\n",
    "    print('=' * 20)\n",
    "    print(f'\\nNombre de columna y su tipo de dato: \\n', df.collect_schema())\n",
    "    print('=' * 20)\n",
    "    print(f'\\nNumero de valores nulos:\\n', df.null_count().collect())"
   ]
  },
  {
   "cell_type": "markdown",
   "id": "36b199a7",
   "metadata": {},
   "source": [
    "Con esta funcion, el siguiente paso sera extraer datos de las columnas y el tipo de datos, los valores nulos y las dimensiones totales de mis datasets"
   ]
  },
  {
   "cell_type": "code",
   "execution_count": 5,
   "id": "80c00b81",
   "metadata": {},
   "outputs": [
    {
     "name": "stdout",
     "output_type": "stream",
     "text": [
      "Shape:\n",
      " (6769473, 6)\n",
      "====================\n",
      "\n",
      "Nombre de columna y su tipo de dato: \n",
      " Schema({'msno': String, 'city': Int64, 'bd': Int64, 'gender': String, 'registered_via': Int64, 'registration_init_time': Int64})\n",
      "====================\n",
      "\n",
      "Numero de valores nulos:\n",
      " shape: (1, 6)\n",
      "┌──────┬──────┬─────┬─────────┬────────────────┬────────────────────────┐\n",
      "│ msno ┆ city ┆ bd  ┆ gender  ┆ registered_via ┆ registration_init_time │\n",
      "│ ---  ┆ ---  ┆ --- ┆ ---     ┆ ---            ┆ ---                    │\n",
      "│ u32  ┆ u32  ┆ u32 ┆ u32     ┆ u32            ┆ u32                    │\n",
      "╞══════╪══════╪═════╪═════════╪════════════════╪════════════════════════╡\n",
      "│ 0    ┆ 0    ┆ 0   ┆ 4429505 ┆ 0              ┆ 0                      │\n",
      "└──────┴──────┴─────┴─────────┴────────────────┴────────────────────────┘\n",
      "Shape:\n",
      " (970960, 2)\n",
      "====================\n",
      "\n",
      "Nombre de columna y su tipo de dato: \n",
      " Schema({'msno': String, 'is_churn': Int64})\n",
      "====================\n",
      "\n",
      "Numero de valores nulos:\n",
      " shape: (1, 2)\n",
      "┌──────┬──────────┐\n",
      "│ msno ┆ is_churn │\n",
      "│ ---  ┆ ---      │\n",
      "│ u32  ┆ u32      │\n",
      "╞══════╪══════════╡\n",
      "│ 0    ┆ 0        │\n",
      "└──────┴──────────┘\n",
      "Shape:\n",
      " (1431009, 9)\n",
      "====================\n",
      "\n",
      "Nombre de columna y su tipo de dato: \n",
      " Schema({'msno': String, 'payment_method_id': Int64, 'payment_plan_days': Int64, 'plan_list_price': Int64, 'actual_amount_paid': Int64, 'is_auto_renew': Int64, 'transaction_date': Int64, 'membership_expire_date': Int64, 'is_cancel': Int64})\n",
      "====================\n",
      "\n",
      "Numero de valores nulos:\n",
      " shape: (1, 9)\n",
      "┌──────┬────────────┬────────────┬────────────┬───┬────────────┬───────────┬───────────┬───────────┐\n",
      "│ msno ┆ payment_me ┆ payment_pl ┆ plan_list_ ┆ … ┆ is_auto_re ┆ transacti ┆ membershi ┆ is_cancel │\n",
      "│ ---  ┆ thod_id    ┆ an_days    ┆ price      ┆   ┆ new        ┆ on_date   ┆ p_expire_ ┆ ---       │\n",
      "│ u32  ┆ ---        ┆ ---        ┆ ---        ┆   ┆ ---        ┆ ---       ┆ date      ┆ u32       │\n",
      "│      ┆ u32        ┆ u32        ┆ u32        ┆   ┆ u32        ┆ u32       ┆ ---       ┆           │\n",
      "│      ┆            ┆            ┆            ┆   ┆            ┆           ┆ u32       ┆           │\n",
      "╞══════╪════════════╪════════════╪════════════╪═══╪════════════╪═══════════╪═══════════╪═══════════╡\n",
      "│ 0    ┆ 0          ┆ 0          ┆ 0          ┆ … ┆ 0          ┆ 0         ┆ 0         ┆ 0         │\n",
      "└──────┴────────────┴────────────┴────────────┴───┴────────────┴───────────┴───────────┴───────────┘\n"
     ]
    }
   ],
   "source": [
    "lista_df = [df_members, df_train, df_transactions]\n",
    "\n",
    "for df in lista_df:\n",
    "    lazy_info(df)"
   ]
  },
  {
   "cell_type": "markdown",
   "id": "a262a90c",
   "metadata": {},
   "source": [
    "Tras analizar, puedo ver que cada uno tiene dimensiones distintas, por lo que tendre que comprobar si la key de union se repite, y en caso de que lo haga, valorar como escojo los datos resultantes.\n",
    "\n",
    "Ademas, todas mis columnas son numericas excepto 'gender', que es ademas la unica columna con valores NA."
   ]
  },
  {
   "cell_type": "code",
   "execution_count": 6,
   "id": "ca2acd84",
   "metadata": {},
   "outputs": [
    {
     "name": "stdout",
     "output_type": "stream",
     "text": [
      "Total: 6,769,473\n",
      "Únicos: 6,769,473\n",
      "¿Hay duplicados? NO\n"
     ]
    }
   ],
   "source": [
    "# Contar registros totales vs registros únicos\n",
    "total_records = df_members.select(pl.len()).collect().item()\n",
    "unique_records = df_members.select(pl.col(\"msno\").n_unique()).collect().item()\n",
    "\n",
    "print(f\"Total: {total_records:,}\")\n",
    "print(f\"Únicos: {unique_records:,}\")\n",
    "print(f\"¿Hay duplicados? {'SÍ' if total_records > unique_records else 'NO'}\")"
   ]
  },
  {
   "cell_type": "markdown",
   "id": "5a7a14e2",
   "metadata": {},
   "source": [
    "En mi dataset members, no hay valores repetidos, esto es clave, ya que no puedo tener un usuario varias veces, el siguiente paso sera unir los datasets por la clave *'msno'*\n"
   ]
  },
  {
   "cell_type": "markdown",
   "id": "87cb6ae3",
   "metadata": {},
   "source": [
    "Cambio el tipo de variable de las columans que contienen fechas para poder trabajar con ellas"
   ]
  },
  {
   "cell_type": "code",
   "execution_count": 7,
   "id": "c4a5a2be",
   "metadata": {},
   "outputs": [],
   "source": [
    "df_members = df_members.with_columns([\n",
    "    pl.col(\"registration_init_time\")\n",
    "      .cast(pl.Utf8)\n",
    "      .str.strptime(pl.Date, \"%Y%m%d\", strict=True)\n",
    "      .alias(\"registration_date\")\n",
    "])"
   ]
  },
  {
   "cell_type": "code",
   "execution_count": 8,
   "id": "b57b6fb0",
   "metadata": {},
   "outputs": [],
   "source": [
    "df_transactions = df_transactions.with_columns([\n",
    "    pl.col(\"transaction_date\")\n",
    "      .cast(pl.Utf8)\n",
    "      .str.strptime(pl.Date, \"%Y%m%d\", strict=True),\n",
    "    pl.col(\"membership_expire_date\")\n",
    "      .cast(pl.Utf8)\n",
    "      .str.strptime(pl.Date, \"%Y%m%d\", strict=True)\n",
    "])"
   ]
  },
  {
   "cell_type": "markdown",
   "id": "5a3b43fe",
   "metadata": {},
   "source": [
    "Creo mi cutoff, a partir del cual descartare transacciones. Esto es para evitar Data Leakage que pueda tener con clientes que tienen no tienen fechas de transaccion, es decir, el modelo podria aprender que no tener transacciones implica que el cliente esta desuscrito, por eso escojo como fecha de corte la ultima transaccion y un plazo de 5 dias como margen de proteccion"
   ]
  },
  {
   "cell_type": "code",
   "execution_count": 9,
   "id": "ec381b65",
   "metadata": {},
   "outputs": [
    {
     "data": {
      "text/html": [
       "<div><style>\n",
       ".dataframe > thead > tr,\n",
       ".dataframe > tbody > tr {\n",
       "  text-align: right;\n",
       "  white-space: pre-wrap;\n",
       "}\n",
       "</style>\n",
       "<small>shape: (2, 2)</small><table border=\"1\" class=\"dataframe\"><thead><tr><th>is_churn</th><th>p95_last_transaction</th></tr><tr><td>i64</td><td>date</td></tr></thead><tbody><tr><td>0</td><td>2017-03-31</td></tr><tr><td>1</td><td>2017-03-31</td></tr></tbody></table></div>"
      ],
      "text/plain": [
       "shape: (2, 2)\n",
       "┌──────────┬──────────────────────┐\n",
       "│ is_churn ┆ p95_last_transaction │\n",
       "│ ---      ┆ ---                  │\n",
       "│ i64      ┆ date                 │\n",
       "╞══════════╪══════════════════════╡\n",
       "│ 0        ┆ 2017-03-31           │\n",
       "│ 1        ┆ 2017-03-31           │\n",
       "└──────────┴──────────────────────┘"
      ]
     },
     "execution_count": 9,
     "metadata": {},
     "output_type": "execute_result"
    }
   ],
   "source": [
    "last_transaction = df_transactions.group_by('msno').agg(pl.col(\"transaction_date\").max().alias(\"last_transaction\"))\n",
    "\n",
    "df_cutoff = df_train.join(last_transaction, on='msno', how='inner')\n",
    "\n",
    "df_cutoff = df_cutoff.sort('last_transaction')\n",
    "\n",
    "df_p95 = df_cutoff.group_by('is_churn').agg(\n",
    "    pl.col('last_transaction').quantile(0.95)\n",
    "    .alias('p95_last_transaction')\n",
    "    )\n",
    "\n",
    "df_p95.head().collect()"
   ]
  },
  {
   "cell_type": "markdown",
   "id": "4623a792",
   "metadata": {},
   "source": [
    "En este caso, las fechas son iguales, para simular un entorno real, le voy a restar 5 dias, de esta manera proporciono un margen de proteccion fentre a data leakage"
   ]
  },
  {
   "cell_type": "code",
   "execution_count": null,
   "id": "aa855c2c",
   "metadata": {},
   "outputs": [
    {
     "data": {
      "text/plain": [
       "datetime.date(2017, 3, 26)"
      ]
     },
     "execution_count": 15,
     "metadata": {},
     "output_type": "execute_result"
    }
   ],
   "source": [
    "cutoff_date = df_p95.select(\n",
    "    pl.col('p95_last_transaction').first().dt.offset_by('-5d')\n",
    ").collect().item()\n",
    "\n",
    "cutoff_date"
   ]
  },
  {
   "cell_type": "markdown",
   "id": "b0834769",
   "metadata": {},
   "source": [
    "Ahora aplico este cutoff al dataset de transactions"
   ]
  },
  {
   "cell_type": "code",
   "execution_count": null,
   "id": "5999ff69",
   "metadata": {},
   "outputs": [],
   "source": [
    "df_transactions = df_transactions.filter(\n",
    "    pl.col('transaction_date') <= pl.lit(cutoff_date)\n",
    ")"
   ]
  },
  {
   "cell_type": "markdown",
   "id": "52876b86",
   "metadata": {},
   "source": [
    "El dataset de transactions tiene varias transacciones por cliente, para no perder estos datos en la unión, crearé nuevas columnas que me den nueva información."
   ]
  },
  {
   "cell_type": "code",
   "execution_count": null,
   "id": "42c2fece",
   "metadata": {},
   "outputs": [],
   "source": [
    "df_transactions = df_transactions.group_by('msno').agg(\n",
    "    pl.count().alias('num_transactions'),\n",
    "    pl.col('payment_plan_days').mode().alias('moda_plan_days'),\n",
    "    pl.col('plan_list_price').mode().alias('moda_plan_price'),\n",
    "    pl.col('actual_amount_paid').mean().alias('avg_amount_paid'),\n",
    "    pl.col(\"is_auto_renew\").mean().alias(\"autorenew_rate\"),\n",
    "    pl.col(\"is_cancel\").mean().alias(\"cancel_rate\"),\n",
    "    (pl.max(\"membership_expire_date\") - pl.max(\"transaction_date\"))\n",
    "    .alias(\"days_until_expire\")\n",
    ")"
   ]
  }
 ],
 "metadata": {
  "kernelspec": {
   "display_name": "DS-IBM",
   "language": "python",
   "name": "python3"
  },
  "language_info": {
   "codemirror_mode": {
    "name": "ipython",
    "version": 3
   },
   "file_extension": ".py",
   "mimetype": "text/x-python",
   "name": "python",
   "nbconvert_exporter": "python",
   "pygments_lexer": "ipython3",
   "version": "3.13.5"
  }
 },
 "nbformat": 4,
 "nbformat_minor": 5
}

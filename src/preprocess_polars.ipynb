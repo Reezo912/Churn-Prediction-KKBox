{
 "cells": [
  {
   "cell_type": "markdown",
   "id": "0bcd50b8",
   "metadata": {},
   "source": [
    "# Preprocesado de Datos"
   ]
  },
  {
   "cell_type": "markdown",
   "id": "9b6b21f4",
   "metadata": {},
   "source": [
    "Para este proyecto usar Polars, es una libreria similar a Pandas, pero optimizada para grandes volumenes de datos\n",
    "\n",
    "Primero cargare cada uno de mis datasets y comprobare como unirlos."
   ]
  },
  {
   "cell_type": "code",
   "execution_count": 1,
   "id": "eb6eb67d",
   "metadata": {},
   "outputs": [],
   "source": [
    "import polars as pl\n",
    "from pathlib import Path"
   ]
  },
  {
   "cell_type": "code",
   "execution_count": 2,
   "id": "4914f01f",
   "metadata": {},
   "outputs": [],
   "source": [
    "BASE_DIR = Path.cwd().parent\n",
    "DATA_DIR = (BASE_DIR / 'data').resolve()\n",
    "RAW_DIR = (DATA_DIR / 'raw').resolve()\n",
    "PROCESSED_DIR = (DATA_DIR / 'processed').resolve()"
   ]
  },
  {
   "cell_type": "markdown",
   "id": "3eddc701",
   "metadata": {},
   "source": [
    "Primero quiero ver una pequena representacion del dataset, para tener contexto de los datos"
   ]
  },
  {
   "cell_type": "code",
   "execution_count": 3,
   "id": "47ab8acf",
   "metadata": {},
   "outputs": [
    {
     "name": "stdout",
     "output_type": "stream",
     "text": [
      "shape: (5, 6)\n",
      "┌─────────────────────────────────┬──────┬─────┬────────┬────────────────┬────────────────────────┐\n",
      "│ msno                            ┆ city ┆ bd  ┆ gender ┆ registered_via ┆ registration_init_time │\n",
      "│ ---                             ┆ ---  ┆ --- ┆ ---    ┆ ---            ┆ ---                    │\n",
      "│ str                             ┆ i64  ┆ i64 ┆ str    ┆ i64            ┆ i64                    │\n",
      "╞═════════════════════════════════╪══════╪═════╪════════╪════════════════╪════════════════════════╡\n",
      "│ Rb9UwLQTrxzBVwCB6+bCcSQWZ9JiNL… ┆ 1    ┆ 0   ┆ null   ┆ 11             ┆ 20110911               │\n",
      "│ +tJonkh+O1CA796Fm5X60UMOtB6POH… ┆ 1    ┆ 0   ┆ null   ┆ 7              ┆ 20110914               │\n",
      "│ cV358ssn7a0f7jZOwGNWS07wCKVqxy… ┆ 1    ┆ 0   ┆ null   ┆ 11             ┆ 20110915               │\n",
      "│ 9bzDeJP6sQodK73K5CBlJ6fgIQzPeL… ┆ 1    ┆ 0   ┆ null   ┆ 11             ┆ 20110915               │\n",
      "│ WFLY3s7z4EZsieHCt63XrsdtfTEmJ+… ┆ 6    ┆ 32  ┆ female ┆ 9              ┆ 20110915               │\n",
      "└─────────────────────────────────┴──────┴─────┴────────┴────────────────┴────────────────────────┘\n",
      "shape: (5, 2)\n",
      "┌─────────────────────────────────┬──────────┐\n",
      "│ msno                            ┆ is_churn │\n",
      "│ ---                             ┆ ---      │\n",
      "│ str                             ┆ i64      │\n",
      "╞═════════════════════════════════╪══════════╡\n",
      "│ waLDQMmcOu2jLDaV1ddDkgCrB/jl6s… ┆ 1        │\n",
      "│ QA7uiXy8vIbUSPOkCf9RwQ3FsT8jVq… ┆ 1        │\n",
      "│ fGwBva6hikQmTJzrbz/2Ezjm5Cth5j… ┆ 1        │\n",
      "│ mT5V8rEpa+8wuqi6x0DoVd3H5icMKk… ┆ 1        │\n",
      "│ XaPhtGLk/5UvvOYHcONTwsnH97P4eG… ┆ 1        │\n",
      "└─────────────────────────────────┴──────────┘\n",
      "shape: (5, 9)\n",
      "┌───────────┬───────────┬───────────┬───────────┬───┬───────────┬───────────┬───────────┬──────────┐\n",
      "│ msno      ┆ payment_m ┆ payment_p ┆ plan_list ┆ … ┆ is_auto_r ┆ transacti ┆ membershi ┆ is_cance │\n",
      "│ ---       ┆ ethod_id  ┆ lan_days  ┆ _price    ┆   ┆ enew      ┆ on_date   ┆ p_expire_ ┆ l        │\n",
      "│ str       ┆ ---       ┆ ---       ┆ ---       ┆   ┆ ---       ┆ ---       ┆ date      ┆ ---      │\n",
      "│           ┆ i64       ┆ i64       ┆ i64       ┆   ┆ i64       ┆ i64       ┆ ---       ┆ i64      │\n",
      "│           ┆           ┆           ┆           ┆   ┆           ┆           ┆ i64       ┆          │\n",
      "╞═══════════╪═══════════╪═══════════╪═══════════╪═══╪═══════════╪═══════════╪═══════════╪══════════╡\n",
      "│ YyO+tlZtA ┆ 41        ┆ 30        ┆ 129       ┆ … ┆ 1         ┆ 20150930  ┆ 20151101  ┆ 0        │\n",
      "│ XYXoZhNr3 ┆           ┆           ┆           ┆   ┆           ┆           ┆           ┆          │\n",
      "│ Vg3+dfVQv ┆           ┆           ┆           ┆   ┆           ┆           ┆           ┆          │\n",
      "│ rBV…      ┆           ┆           ┆           ┆   ┆           ┆           ┆           ┆          │\n",
      "│ AZtu6Wl0g ┆ 41        ┆ 30        ┆ 149       ┆ … ┆ 1         ┆ 20150930  ┆ 20151031  ┆ 0        │\n",
      "│ PojrEQYB8 ┆           ┆           ┆           ┆   ┆           ┆           ┆           ┆          │\n",
      "│ Q3vBSmE2w ┆           ┆           ┆           ┆   ┆           ┆           ┆           ┆          │\n",
      "│ nZ3…      ┆           ┆           ┆           ┆   ┆           ┆           ┆           ┆          │\n",
      "│ UkDFI97Qb ┆ 41        ┆ 30        ┆ 129       ┆ … ┆ 1         ┆ 20150930  ┆ 20160427  ┆ 0        │\n",
      "│ 6+s2LWcij ┆           ┆           ┆           ┆   ┆           ┆           ┆           ┆          │\n",
      "│ VVv4rMAsO ┆           ┆           ┆           ┆   ┆           ┆           ┆           ┆          │\n",
      "│ RbV…      ┆           ┆           ┆           ┆   ┆           ┆           ┆           ┆          │\n",
      "│ M1C56ijxo ┆ 39        ┆ 30        ┆ 149       ┆ … ┆ 1         ┆ 20150930  ┆ 20151128  ┆ 0        │\n",
      "│ zNaGD0t2h ┆           ┆           ┆           ┆   ┆           ┆           ┆           ┆          │\n",
      "│ 68PnH2xtx ┆           ┆           ┆           ┆   ┆           ┆           ┆           ┆          │\n",
      "│ 5iO…      ┆           ┆           ┆           ┆   ┆           ┆           ┆           ┆          │\n",
      "│ yvj6zyBUa ┆ 39        ┆ 30        ┆ 149       ┆ … ┆ 1         ┆ 20150930  ┆ 20151121  ┆ 0        │\n",
      "│ qdbUQSrKs ┆           ┆           ┆           ┆   ┆           ┆           ┆           ┆          │\n",
      "│ rZ+xNDVM6 ┆           ┆           ┆           ┆   ┆           ┆           ┆           ┆          │\n",
      "│ 2kn…      ┆           ┆           ┆           ┆   ┆           ┆           ┆           ┆          │\n",
      "└───────────┴───────────┴───────────┴───────────┴───┴───────────┴───────────┴───────────┴──────────┘\n"
     ]
    },
    {
     "name": "stderr",
     "output_type": "stream",
     "text": [
      "C:\\Users\\Carlos\\AppData\\Local\\Temp\\ipykernel_22500\\2899243767.py:6: DeprecationWarning: `LazyFrame.fetch` is deprecated; use `LazyFrame.collect` instead, in conjunction with a call to `head`.\n",
      "  print(df_members.fetch(5))\n",
      "C:\\Users\\Carlos\\AppData\\Local\\Temp\\ipykernel_22500\\2899243767.py:7: DeprecationWarning: `LazyFrame.fetch` is deprecated; use `LazyFrame.collect` instead, in conjunction with a call to `head`.\n",
      "  print(df_train.fetch(5))\n",
      "C:\\Users\\Carlos\\AppData\\Local\\Temp\\ipykernel_22500\\2899243767.py:8: DeprecationWarning: `LazyFrame.fetch` is deprecated; use `LazyFrame.collect` instead, in conjunction with a call to `head`.\n",
      "  print(df_transactions.fetch(5))\n"
     ]
    }
   ],
   "source": [
    "df_members = pl.scan_csv(RAW_DIR/'members_v3.csv')\n",
    "df_train = pl.scan_csv(RAW_DIR/'train.csv')\n",
    "df_transactions = pl.scan_csv(RAW_DIR/'transactions.csv')\n",
    "df_user_logs = pl.scan_csv(RAW_DIR/'user_logs.csv')\n",
    "\n",
    "print(df_members.fetch(5))\n",
    "print(df_train.fetch(5))\n",
    "print(df_transactions.fetch(5))"
   ]
  },
  {
   "cell_type": "code",
   "execution_count": 4,
   "id": "9a71c3ed",
   "metadata": {},
   "outputs": [
    {
     "data": {
      "text/html": [
       "<div><style>\n",
       ".dataframe > thead > tr,\n",
       ".dataframe > tbody > tr {\n",
       "  text-align: right;\n",
       "  white-space: pre-wrap;\n",
       "}\n",
       "</style>\n",
       "<small>shape: (5, 9)</small><table border=\"1\" class=\"dataframe\"><thead><tr><th>msno</th><th>payment_method_id</th><th>payment_plan_days</th><th>plan_list_price</th><th>actual_amount_paid</th><th>is_auto_renew</th><th>transaction_date</th><th>membership_expire_date</th><th>is_cancel</th></tr><tr><td>str</td><td>i64</td><td>i64</td><td>i64</td><td>i64</td><td>i64</td><td>i64</td><td>i64</td><td>i64</td></tr></thead><tbody><tr><td>&quot;YyO+tlZtAXYXoZhNr3Vg3+dfVQvrBV…</td><td>41</td><td>30</td><td>129</td><td>129</td><td>1</td><td>20150930</td><td>20151101</td><td>0</td></tr><tr><td>&quot;AZtu6Wl0gPojrEQYB8Q3vBSmE2wnZ3…</td><td>41</td><td>30</td><td>149</td><td>149</td><td>1</td><td>20150930</td><td>20151031</td><td>0</td></tr><tr><td>&quot;UkDFI97Qb6+s2LWcijVVv4rMAsORbV…</td><td>41</td><td>30</td><td>129</td><td>129</td><td>1</td><td>20150930</td><td>20160427</td><td>0</td></tr><tr><td>&quot;M1C56ijxozNaGD0t2h68PnH2xtx5iO…</td><td>39</td><td>30</td><td>149</td><td>149</td><td>1</td><td>20150930</td><td>20151128</td><td>0</td></tr><tr><td>&quot;yvj6zyBUaqdbUQSrKsrZ+xNDVM62kn…</td><td>39</td><td>30</td><td>149</td><td>149</td><td>1</td><td>20150930</td><td>20151121</td><td>0</td></tr></tbody></table></div>"
      ],
      "text/plain": [
       "shape: (5, 9)\n",
       "┌───────────┬───────────┬───────────┬───────────┬───┬───────────┬───────────┬───────────┬──────────┐\n",
       "│ msno      ┆ payment_m ┆ payment_p ┆ plan_list ┆ … ┆ is_auto_r ┆ transacti ┆ membershi ┆ is_cance │\n",
       "│ ---       ┆ ethod_id  ┆ lan_days  ┆ _price    ┆   ┆ enew      ┆ on_date   ┆ p_expire_ ┆ l        │\n",
       "│ str       ┆ ---       ┆ ---       ┆ ---       ┆   ┆ ---       ┆ ---       ┆ date      ┆ ---      │\n",
       "│           ┆ i64       ┆ i64       ┆ i64       ┆   ┆ i64       ┆ i64       ┆ ---       ┆ i64      │\n",
       "│           ┆           ┆           ┆           ┆   ┆           ┆           ┆ i64       ┆          │\n",
       "╞═══════════╪═══════════╪═══════════╪═══════════╪═══╪═══════════╪═══════════╪═══════════╪══════════╡\n",
       "│ YyO+tlZtA ┆ 41        ┆ 30        ┆ 129       ┆ … ┆ 1         ┆ 20150930  ┆ 20151101  ┆ 0        │\n",
       "│ XYXoZhNr3 ┆           ┆           ┆           ┆   ┆           ┆           ┆           ┆          │\n",
       "│ Vg3+dfVQv ┆           ┆           ┆           ┆   ┆           ┆           ┆           ┆          │\n",
       "│ rBV…      ┆           ┆           ┆           ┆   ┆           ┆           ┆           ┆          │\n",
       "│ AZtu6Wl0g ┆ 41        ┆ 30        ┆ 149       ┆ … ┆ 1         ┆ 20150930  ┆ 20151031  ┆ 0        │\n",
       "│ PojrEQYB8 ┆           ┆           ┆           ┆   ┆           ┆           ┆           ┆          │\n",
       "│ Q3vBSmE2w ┆           ┆           ┆           ┆   ┆           ┆           ┆           ┆          │\n",
       "│ nZ3…      ┆           ┆           ┆           ┆   ┆           ┆           ┆           ┆          │\n",
       "│ UkDFI97Qb ┆ 41        ┆ 30        ┆ 129       ┆ … ┆ 1         ┆ 20150930  ┆ 20160427  ┆ 0        │\n",
       "│ 6+s2LWcij ┆           ┆           ┆           ┆   ┆           ┆           ┆           ┆          │\n",
       "│ VVv4rMAsO ┆           ┆           ┆           ┆   ┆           ┆           ┆           ┆          │\n",
       "│ RbV…      ┆           ┆           ┆           ┆   ┆           ┆           ┆           ┆          │\n",
       "│ M1C56ijxo ┆ 39        ┆ 30        ┆ 149       ┆ … ┆ 1         ┆ 20150930  ┆ 20151128  ┆ 0        │\n",
       "│ zNaGD0t2h ┆           ┆           ┆           ┆   ┆           ┆           ┆           ┆          │\n",
       "│ 68PnH2xtx ┆           ┆           ┆           ┆   ┆           ┆           ┆           ┆          │\n",
       "│ 5iO…      ┆           ┆           ┆           ┆   ┆           ┆           ┆           ┆          │\n",
       "│ yvj6zyBUa ┆ 39        ┆ 30        ┆ 149       ┆ … ┆ 1         ┆ 20150930  ┆ 20151121  ┆ 0        │\n",
       "│ qdbUQSrKs ┆           ┆           ┆           ┆   ┆           ┆           ┆           ┆          │\n",
       "│ rZ+xNDVM6 ┆           ┆           ┆           ┆   ┆           ┆           ┆           ┆          │\n",
       "│ 2kn…      ┆           ┆           ┆           ┆   ┆           ┆           ┆           ┆          │\n",
       "└───────────┴───────────┴───────────┴───────────┴───┴───────────┴───────────┴───────────┴──────────┘"
      ]
     },
     "execution_count": 4,
     "metadata": {},
     "output_type": "execute_result"
    }
   ],
   "source": [
    "df_transactions.head().collect()"
   ]
  },
  {
   "cell_type": "markdown",
   "id": "dcc2f18f",
   "metadata": {},
   "source": [
    "Con esta observacion parcial de mis datasets, puedo ver que tengo una columna llamada *'msno'* que esta formada por strings y es la columna comun en los tres datasets y por donde tendre que hacer el join."
   ]
  },
  {
   "cell_type": "code",
   "execution_count": 5,
   "id": "c6da83d9",
   "metadata": {},
   "outputs": [],
   "source": [
    "def df_info(df):\n",
    "    print(f'Shape:\\n', (df.select(pl.len()).collect().item(), df.collect_schema().len()))\n",
    "    print('=' * 20)\n",
    "    print(f'\\nNombre de columna y su tipo de dato: \\n', df.collect_schema())\n",
    "    print('=' * 20)\n",
    "    print(f'\\nNumero de valores nulos:\\n', df.null_count().collect())"
   ]
  },
  {
   "cell_type": "markdown",
   "id": "36b199a7",
   "metadata": {},
   "source": [
    "Con esta funcion, el siguiente paso sera extraer datos de las columnas y el tipo de datos, los valores nulos y las dimensiones totales de mis datasets"
   ]
  },
  {
   "cell_type": "code",
   "execution_count": 6,
   "id": "80c00b81",
   "metadata": {},
   "outputs": [
    {
     "name": "stdout",
     "output_type": "stream",
     "text": [
      "Shape:\n",
      " (6769473, 6)\n",
      "====================\n",
      "\n",
      "Nombre de columna y su tipo de dato: \n",
      " Schema({'msno': String, 'city': Int64, 'bd': Int64, 'gender': String, 'registered_via': Int64, 'registration_init_time': Int64})\n",
      "====================\n",
      "\n",
      "Numero de valores nulos:\n",
      " shape: (1, 6)\n",
      "┌──────┬──────┬─────┬─────────┬────────────────┬────────────────────────┐\n",
      "│ msno ┆ city ┆ bd  ┆ gender  ┆ registered_via ┆ registration_init_time │\n",
      "│ ---  ┆ ---  ┆ --- ┆ ---     ┆ ---            ┆ ---                    │\n",
      "│ u32  ┆ u32  ┆ u32 ┆ u32     ┆ u32            ┆ u32                    │\n",
      "╞══════╪══════╪═════╪═════════╪════════════════╪════════════════════════╡\n",
      "│ 0    ┆ 0    ┆ 0   ┆ 4429505 ┆ 0              ┆ 0                      │\n",
      "└──────┴──────┴─────┴─────────┴────────────────┴────────────────────────┘\n",
      "Shape:\n",
      " (992931, 2)\n",
      "====================\n",
      "\n",
      "Nombre de columna y su tipo de dato: \n",
      " Schema({'msno': String, 'is_churn': Int64})\n",
      "====================\n",
      "\n",
      "Numero de valores nulos:\n",
      " shape: (1, 2)\n",
      "┌──────┬──────────┐\n",
      "│ msno ┆ is_churn │\n",
      "│ ---  ┆ ---      │\n",
      "│ u32  ┆ u32      │\n",
      "╞══════╪══════════╡\n",
      "│ 0    ┆ 0        │\n",
      "└──────┴──────────┘\n",
      "Shape:\n",
      " (21547746, 9)\n",
      "====================\n",
      "\n",
      "Nombre de columna y su tipo de dato: \n",
      " Schema({'msno': String, 'payment_method_id': Int64, 'payment_plan_days': Int64, 'plan_list_price': Int64, 'actual_amount_paid': Int64, 'is_auto_renew': Int64, 'transaction_date': Int64, 'membership_expire_date': Int64, 'is_cancel': Int64})\n",
      "====================\n",
      "\n",
      "Numero de valores nulos:\n",
      " shape: (1, 9)\n",
      "┌──────┬────────────┬────────────┬────────────┬───┬────────────┬───────────┬───────────┬───────────┐\n",
      "│ msno ┆ payment_me ┆ payment_pl ┆ plan_list_ ┆ … ┆ is_auto_re ┆ transacti ┆ membershi ┆ is_cancel │\n",
      "│ ---  ┆ thod_id    ┆ an_days    ┆ price      ┆   ┆ new        ┆ on_date   ┆ p_expire_ ┆ ---       │\n",
      "│ u32  ┆ ---        ┆ ---        ┆ ---        ┆   ┆ ---        ┆ ---       ┆ date      ┆ u32       │\n",
      "│      ┆ u32        ┆ u32        ┆ u32        ┆   ┆ u32        ┆ u32       ┆ ---       ┆           │\n",
      "│      ┆            ┆            ┆            ┆   ┆            ┆           ┆ u32       ┆           │\n",
      "╞══════╪════════════╪════════════╪════════════╪═══╪════════════╪═══════════╪═══════════╪═══════════╡\n",
      "│ 0    ┆ 0          ┆ 0          ┆ 0          ┆ … ┆ 0          ┆ 0         ┆ 0         ┆ 0         │\n",
      "└──────┴────────────┴────────────┴────────────┴───┴────────────┴───────────┴───────────┴───────────┘\n"
     ]
    }
   ],
   "source": [
    "lista_df = [df_members, df_train, df_transactions]\n",
    "\n",
    "for df in lista_df:\n",
    "    df_info(df)"
   ]
  },
  {
   "cell_type": "markdown",
   "id": "a262a90c",
   "metadata": {},
   "source": [
    "Tras analizar, puedo ver que cada uno tiene dimensiones distintas, por lo que tendre que comprobar si la key de union se repite, y en caso de que lo haga, valorar como escojo los datos resultantes.\n",
    "\n",
    "Ademas, todas mis columnas son numericas excepto 'gender', que es ademas la unica columna con valores NA."
   ]
  },
  {
   "cell_type": "code",
   "execution_count": 7,
   "id": "ca2acd84",
   "metadata": {},
   "outputs": [
    {
     "name": "stdout",
     "output_type": "stream",
     "text": [
      "Total: 6,769,473\n",
      "Únicos: 6,769,473\n",
      "¿Hay duplicados? NO\n"
     ]
    }
   ],
   "source": [
    "# Contar registros totales vs registros únicos\n",
    "total_records = df_members.select(pl.len()).collect().item()\n",
    "unique_records = df_members.select(pl.col(\"msno\").n_unique()).collect().item()\n",
    "\n",
    "print(f\"Total: {total_records:,}\")\n",
    "print(f\"Únicos: {unique_records:,}\")\n",
    "print(f\"¿Hay duplicados? {'SÍ' if total_records > unique_records else 'NO'}\")"
   ]
  },
  {
   "cell_type": "markdown",
   "id": "5a7a14e2",
   "metadata": {},
   "source": [
    "En mi dataset members, no hay valores repetidos, esto es clave, ya que no puedo tener un usuario varias veces, el siguiente paso sera unir los datasets por la clave *'msno'*\n"
   ]
  },
  {
   "cell_type": "markdown",
   "id": "87cb6ae3",
   "metadata": {},
   "source": [
    "Cambio el tipo de variable de las columans que contienen fechas para poder trabajar con ellas y ademas selecciono las columnas que quiero mantener"
   ]
  },
  {
   "cell_type": "code",
   "execution_count": 8,
   "id": "c4a5a2be",
   "metadata": {},
   "outputs": [],
   "source": [
    "df_members = df_members.with_columns([\n",
    "    pl.col(\"registration_init_time\")\n",
    "      .cast(pl.Utf8)\n",
    "      .str.strptime(pl.Date, \"%Y%m%d\", strict=True)\n",
    "      .alias(\"registration_date\")\n",
    "]).select([\"msno\",\"gender\",\"city\",\"bd\",\"registration_init_time\"])"
   ]
  },
  {
   "cell_type": "code",
   "execution_count": 9,
   "id": "b57b6fb0",
   "metadata": {},
   "outputs": [],
   "source": [
    "df_transactions = df_transactions.with_columns([\n",
    "    pl.col(\"transaction_date\")\n",
    "      .cast(pl.Utf8)\n",
    "      .str.strptime(pl.Date, \"%Y%m%d\", strict=True),\n",
    "    pl.col(\"membership_expire_date\")\n",
    "      .cast(pl.Utf8)\n",
    "      .str.strptime(pl.Date, \"%Y%m%d\", strict=True)\n",
    "])"
   ]
  },
  {
   "cell_type": "markdown",
   "id": "5a3b43fe",
   "metadata": {},
   "source": [
    "Creo mi cutoff, a partir del cual descartare transacciones. Esto es para evitar Data Leakage que pueda tener con clientes que tienen no tienen fechas de transaccion, es decir, el modelo podria aprender que no tener transacciones implica que el cliente esta desuscrito, por eso escojo como fecha de corte la ultima transaccion y un plazo de 5 dias como margen de proteccion"
   ]
  },
  {
   "cell_type": "code",
   "execution_count": 10,
   "id": "ec381b65",
   "metadata": {},
   "outputs": [
    {
     "data": {
      "text/html": [
       "<div><style>\n",
       ".dataframe > thead > tr,\n",
       ".dataframe > tbody > tr {\n",
       "  text-align: right;\n",
       "  white-space: pre-wrap;\n",
       "}\n",
       "</style>\n",
       "<small>shape: (2, 2)</small><table border=\"1\" class=\"dataframe\"><thead><tr><th>is_churn</th><th>p95_last_transaction</th></tr><tr><td>i64</td><td>date</td></tr></thead><tbody><tr><td>0</td><td>2017-02-28</td></tr><tr><td>1</td><td>2017-02-23</td></tr></tbody></table></div>"
      ],
      "text/plain": [
       "shape: (2, 2)\n",
       "┌──────────┬──────────────────────┐\n",
       "│ is_churn ┆ p95_last_transaction │\n",
       "│ ---      ┆ ---                  │\n",
       "│ i64      ┆ date                 │\n",
       "╞══════════╪══════════════════════╡\n",
       "│ 0        ┆ 2017-02-28           │\n",
       "│ 1        ┆ 2017-02-23           │\n",
       "└──────────┴──────────────────────┘"
      ]
     },
     "execution_count": 10,
     "metadata": {},
     "output_type": "execute_result"
    }
   ],
   "source": [
    "last_transaction = df_transactions.group_by('msno').agg(pl.col(\"transaction_date\").max().alias(\"last_transaction\"))\n",
    "\n",
    "df_cutoff = df_train.join(last_transaction, on='msno', how='inner')\n",
    "\n",
    "df_cutoff = df_cutoff.sort('last_transaction')\n",
    "\n",
    "df_p95 = df_cutoff.group_by('is_churn').agg(\n",
    "    pl.col('last_transaction').quantile(0.95)\n",
    "    .alias('p95_last_transaction')\n",
    "    )\n",
    "\n",
    "df_p95.head().collect()"
   ]
  },
  {
   "cell_type": "markdown",
   "id": "4623a792",
   "metadata": {},
   "source": [
    "En este caso, las fechas son iguales, para simular un entorno real, le voy a restar 5 dias, de esta manera proporciono un margen de proteccion fentre a data leakage"
   ]
  },
  {
   "cell_type": "code",
   "execution_count": 11,
   "id": "aa855c2c",
   "metadata": {},
   "outputs": [
    {
     "data": {
      "text/plain": [
       "datetime.date(2017, 2, 18)"
      ]
     },
     "execution_count": 11,
     "metadata": {},
     "output_type": "execute_result"
    }
   ],
   "source": [
    "cutoff_date = df_p95.select(\n",
    "    pl.col('p95_last_transaction').min().dt.offset_by('-5d')\n",
    ").collect().item()\n",
    "\n",
    "cutoff_date"
   ]
  },
  {
   "cell_type": "markdown",
   "id": "b0834769",
   "metadata": {},
   "source": [
    "Ahora aplico este cutoff al dataset de transactions"
   ]
  },
  {
   "cell_type": "code",
   "execution_count": 12,
   "id": "5999ff69",
   "metadata": {},
   "outputs": [],
   "source": [
    "df_transactions = df_transactions.filter(\n",
    "    pl.col('transaction_date') <= pl.lit(cutoff_date)\n",
    ")"
   ]
  },
  {
   "cell_type": "markdown",
   "id": "52876b86",
   "metadata": {},
   "source": [
    "El dataset de transactions tiene varias transacciones por cliente, para no perder estos datos en la unión, crearé nuevas columnas que me den nueva información."
   ]
  },
  {
   "cell_type": "code",
   "execution_count": 13,
   "id": "42c2fece",
   "metadata": {},
   "outputs": [],
   "source": [
    "df_transactions = df_transactions.group_by('msno').agg(\n",
    "    pl.len().alias('num_transactions'),\n",
    "    pl.col('payment_plan_days').mode().alias('moda_plan_days'),\n",
    "    pl.col('plan_list_price').mode().alias('moda_plan_price'),\n",
    "    pl.col('actual_amount_paid').sum().alias('total_amount_paid'),\n",
    "    pl.col(\"is_auto_renew\").mean().alias(\"autorenew_rate\"),\n",
    "    pl.col(\"is_cancel\").mean().alias(\"cancel_rate\"),\n",
    "    (pl.max(\"membership_expire_date\") - pl.max(\"transaction_date\"))\n",
    "    .clip(pl.duration(days=0).alias(\"days_until_expire\"))\n",
    ")"
   ]
  },
  {
   "cell_type": "code",
   "execution_count": 14,
   "id": "4f225634",
   "metadata": {},
   "outputs": [
    {
     "data": {
      "text/html": [
       "<div><style>\n",
       ".dataframe > thead > tr,\n",
       ".dataframe > tbody > tr {\n",
       "  text-align: right;\n",
       "  white-space: pre-wrap;\n",
       "}\n",
       "</style>\n",
       "<small>shape: (5, 8)</small><table border=\"1\" class=\"dataframe\"><thead><tr><th>msno</th><th>num_transactions</th><th>moda_plan_days</th><th>moda_plan_price</th><th>total_amount_paid</th><th>autorenew_rate</th><th>cancel_rate</th><th>membership_expire_date</th></tr><tr><td>str</td><td>u32</td><td>list[i64]</td><td>list[i64]</td><td>i64</td><td>f64</td><td>f64</td><td>duration[ms]</td></tr></thead><tbody><tr><td>&quot;CN3iRDMTumdfnLVkCXl7QfR+d5iQ5e…</td><td>10</td><td>[0]</td><td>[0]</td><td>1490</td><td>1.0</td><td>0.1</td><td>24d</td></tr><tr><td>&quot;afGZN3etJGUpIWzVva54Sr1wTGXzEu…</td><td>1</td><td>[30]</td><td>[149]</td><td>149</td><td>1.0</td><td>0.0</td><td>27d</td></tr><tr><td>&quot;k2b13rZQXxlX25WuPY1Qgnk/BnWlfK…</td><td>19</td><td>[30]</td><td>[99]</td><td>1881</td><td>1.0</td><td>0.0</td><td>28d</td></tr><tr><td>&quot;ZvGUnYmPSjdB8Lq+P1Bzod0DJ5vEsv…</td><td>2</td><td>[7]</td><td>[0]</td><td>0</td><td>0.0</td><td>0.0</td><td>7d</td></tr><tr><td>&quot;vpxiKJ5FrH1V0cEmLlXg1BKoYZBgcF…</td><td>1</td><td>[7]</td><td>[0]</td><td>0</td><td>0.0</td><td>0.0</td><td>7d</td></tr></tbody></table></div>"
      ],
      "text/plain": [
       "shape: (5, 8)\n",
       "┌────────────┬────────────┬────────────┬───────────┬───────────┬───────────┬───────────┬───────────┐\n",
       "│ msno       ┆ num_transa ┆ moda_plan_ ┆ moda_plan ┆ total_amo ┆ autorenew ┆ cancel_ra ┆ membershi │\n",
       "│ ---        ┆ ctions     ┆ days       ┆ _price    ┆ unt_paid  ┆ _rate     ┆ te        ┆ p_expire_ │\n",
       "│ str        ┆ ---        ┆ ---        ┆ ---       ┆ ---       ┆ ---       ┆ ---       ┆ date      │\n",
       "│            ┆ u32        ┆ list[i64]  ┆ list[i64] ┆ i64       ┆ f64       ┆ f64       ┆ ---       │\n",
       "│            ┆            ┆            ┆           ┆           ┆           ┆           ┆ duration[ │\n",
       "│            ┆            ┆            ┆           ┆           ┆           ┆           ┆ ms]       │\n",
       "╞════════════╪════════════╪════════════╪═══════════╪═══════════╪═══════════╪═══════════╪═══════════╡\n",
       "│ CN3iRDMTum ┆ 10         ┆ [0]        ┆ [0]       ┆ 1490      ┆ 1.0       ┆ 0.1       ┆ 24d       │\n",
       "│ dfnLVkCXl7 ┆            ┆            ┆           ┆           ┆           ┆           ┆           │\n",
       "│ QfR+d5iQ5e ┆            ┆            ┆           ┆           ┆           ┆           ┆           │\n",
       "│ …          ┆            ┆            ┆           ┆           ┆           ┆           ┆           │\n",
       "│ afGZN3etJG ┆ 1          ┆ [30]       ┆ [149]     ┆ 149       ┆ 1.0       ┆ 0.0       ┆ 27d       │\n",
       "│ UpIWzVva54 ┆            ┆            ┆           ┆           ┆           ┆           ┆           │\n",
       "│ Sr1wTGXzEu ┆            ┆            ┆           ┆           ┆           ┆           ┆           │\n",
       "│ …          ┆            ┆            ┆           ┆           ┆           ┆           ┆           │\n",
       "│ k2b13rZQXx ┆ 19         ┆ [30]       ┆ [99]      ┆ 1881      ┆ 1.0       ┆ 0.0       ┆ 28d       │\n",
       "│ lX25WuPY1Q ┆            ┆            ┆           ┆           ┆           ┆           ┆           │\n",
       "│ gnk/BnWlfK ┆            ┆            ┆           ┆           ┆           ┆           ┆           │\n",
       "│ …          ┆            ┆            ┆           ┆           ┆           ┆           ┆           │\n",
       "│ ZvGUnYmPSj ┆ 2          ┆ [7]        ┆ [0]       ┆ 0         ┆ 0.0       ┆ 0.0       ┆ 7d        │\n",
       "│ dB8Lq+P1Bz ┆            ┆            ┆           ┆           ┆           ┆           ┆           │\n",
       "│ od0DJ5vEsv ┆            ┆            ┆           ┆           ┆           ┆           ┆           │\n",
       "│ …          ┆            ┆            ┆           ┆           ┆           ┆           ┆           │\n",
       "│ vpxiKJ5FrH ┆ 1          ┆ [7]        ┆ [0]       ┆ 0         ┆ 0.0       ┆ 0.0       ┆ 7d        │\n",
       "│ 1V0cEmLlXg ┆            ┆            ┆           ┆           ┆           ┆           ┆           │\n",
       "│ 1BKoYZBgcF ┆            ┆            ┆           ┆           ┆           ┆           ┆           │\n",
       "│ …          ┆            ┆            ┆           ┆           ┆           ┆           ┆           │\n",
       "└────────────┴────────────┴────────────┴───────────┴───────────┴───────────┴───────────┴───────────┘"
      ]
     },
     "execution_count": 14,
     "metadata": {},
     "output_type": "execute_result"
    }
   ],
   "source": [
    "df_transactions.head().collect()"
   ]
  },
  {
   "cell_type": "markdown",
   "id": "bf170623",
   "metadata": {},
   "source": [
    "*moda_plan_days* y *moda_plan_price* han quedado como listas, voy a extraer el numero de la lista."
   ]
  },
  {
   "cell_type": "code",
   "execution_count": 15,
   "id": "370fdd16",
   "metadata": {},
   "outputs": [
    {
     "data": {
      "text/html": [
       "<div><style>\n",
       ".dataframe > thead > tr,\n",
       ".dataframe > tbody > tr {\n",
       "  text-align: right;\n",
       "  white-space: pre-wrap;\n",
       "}\n",
       "</style>\n",
       "<small>shape: (5, 8)</small><table border=\"1\" class=\"dataframe\"><thead><tr><th>msno</th><th>num_transactions</th><th>moda_plan_days</th><th>moda_plan_price</th><th>total_amount_paid</th><th>autorenew_rate</th><th>cancel_rate</th><th>membership_expire_date</th></tr><tr><td>str</td><td>u32</td><td>i64</td><td>i64</td><td>i64</td><td>f64</td><td>f64</td><td>duration[ms]</td></tr></thead><tbody><tr><td>&quot;wudC0EqEvhQCkseHwWpRLHBVyZTcVj…</td><td>1</td><td>7</td><td>0</td><td>0</td><td>0.0</td><td>0.0</td><td>3d</td></tr><tr><td>&quot;4r+EDALUDfQ62Lo6QviTR4WLl/y7pq…</td><td>4</td><td>30</td><td>149</td><td>596</td><td>0.0</td><td>0.0</td><td>30d</td></tr><tr><td>&quot;MetSf2pHI5vZRSVNdHSxLTJ+H08Md2…</td><td>2</td><td>30</td><td>149</td><td>0</td><td>1.0</td><td>0.5</td><td>2d</td></tr><tr><td>&quot;Z+81gFYzETfs3qYE4a6rqJH3AOOl9d…</td><td>19</td><td>30</td><td>149</td><td>2831</td><td>1.0</td><td>0.052632</td><td>34d</td></tr><tr><td>&quot;p5JhJfKDGLm+AVpcPCWGRNKZ7zIhDH…</td><td>14</td><td>30</td><td>149</td><td>2086</td><td>1.0</td><td>0.071429</td><td>16d</td></tr></tbody></table></div>"
      ],
      "text/plain": [
       "shape: (5, 8)\n",
       "┌────────────┬────────────┬────────────┬───────────┬───────────┬───────────┬───────────┬───────────┐\n",
       "│ msno       ┆ num_transa ┆ moda_plan_ ┆ moda_plan ┆ total_amo ┆ autorenew ┆ cancel_ra ┆ membershi │\n",
       "│ ---        ┆ ctions     ┆ days       ┆ _price    ┆ unt_paid  ┆ _rate     ┆ te        ┆ p_expire_ │\n",
       "│ str        ┆ ---        ┆ ---        ┆ ---       ┆ ---       ┆ ---       ┆ ---       ┆ date      │\n",
       "│            ┆ u32        ┆ i64        ┆ i64       ┆ i64       ┆ f64       ┆ f64       ┆ ---       │\n",
       "│            ┆            ┆            ┆           ┆           ┆           ┆           ┆ duration[ │\n",
       "│            ┆            ┆            ┆           ┆           ┆           ┆           ┆ ms]       │\n",
       "╞════════════╪════════════╪════════════╪═══════════╪═══════════╪═══════════╪═══════════╪═══════════╡\n",
       "│ wudC0EqEvh ┆ 1          ┆ 7          ┆ 0         ┆ 0         ┆ 0.0       ┆ 0.0       ┆ 3d        │\n",
       "│ QCkseHwWpR ┆            ┆            ┆           ┆           ┆           ┆           ┆           │\n",
       "│ LHBVyZTcVj ┆            ┆            ┆           ┆           ┆           ┆           ┆           │\n",
       "│ …          ┆            ┆            ┆           ┆           ┆           ┆           ┆           │\n",
       "│ 4r+EDALUDf ┆ 4          ┆ 30         ┆ 149       ┆ 596       ┆ 0.0       ┆ 0.0       ┆ 30d       │\n",
       "│ Q62Lo6QviT ┆            ┆            ┆           ┆           ┆           ┆           ┆           │\n",
       "│ R4WLl/y7pq ┆            ┆            ┆           ┆           ┆           ┆           ┆           │\n",
       "│ …          ┆            ┆            ┆           ┆           ┆           ┆           ┆           │\n",
       "│ MetSf2pHI5 ┆ 2          ┆ 30         ┆ 149       ┆ 0         ┆ 1.0       ┆ 0.5       ┆ 2d        │\n",
       "│ vZRSVNdHSx ┆            ┆            ┆           ┆           ┆           ┆           ┆           │\n",
       "│ LTJ+H08Md2 ┆            ┆            ┆           ┆           ┆           ┆           ┆           │\n",
       "│ …          ┆            ┆            ┆           ┆           ┆           ┆           ┆           │\n",
       "│ Z+81gFYzET ┆ 19         ┆ 30         ┆ 149       ┆ 2831      ┆ 1.0       ┆ 0.052632  ┆ 34d       │\n",
       "│ fs3qYE4a6r ┆            ┆            ┆           ┆           ┆           ┆           ┆           │\n",
       "│ qJH3AOOl9d ┆            ┆            ┆           ┆           ┆           ┆           ┆           │\n",
       "│ …          ┆            ┆            ┆           ┆           ┆           ┆           ┆           │\n",
       "│ p5JhJfKDGL ┆ 14         ┆ 30         ┆ 149       ┆ 2086      ┆ 1.0       ┆ 0.071429  ┆ 16d       │\n",
       "│ m+AVpcPCWG ┆            ┆            ┆           ┆           ┆           ┆           ┆           │\n",
       "│ RNKZ7zIhDH ┆            ┆            ┆           ┆           ┆           ┆           ┆           │\n",
       "│ …          ┆            ┆            ┆           ┆           ┆           ┆           ┆           │\n",
       "└────────────┴────────────┴────────────┴───────────┴───────────┴───────────┴───────────┴───────────┘"
      ]
     },
     "execution_count": 15,
     "metadata": {},
     "output_type": "execute_result"
    }
   ],
   "source": [
    "df_transactions = df_transactions.with_columns([\n",
    "    pl.col('moda_plan_days').list.get(0),\n",
    "    pl.col('moda_plan_price').list.get(0)\n",
    "])\n",
    "\n",
    "df_transactions.head().collect()"
   ]
  },
  {
   "cell_type": "code",
   "execution_count": 16,
   "id": "ec195e2b",
   "metadata": {},
   "outputs": [],
   "source": [
    "df_test = df_transactions.collect()"
   ]
  },
  {
   "cell_type": "code",
   "execution_count": 17,
   "id": "15c35246",
   "metadata": {},
   "outputs": [
    {
     "data": {
      "text/html": [
       "<div><style>\n",
       ".dataframe > thead > tr,\n",
       ".dataframe > tbody > tr {\n",
       "  text-align: right;\n",
       "  white-space: pre-wrap;\n",
       "}\n",
       "</style>\n",
       "<small>shape: (9, 9)</small><table border=\"1\" class=\"dataframe\"><thead><tr><th>statistic</th><th>msno</th><th>num_transactions</th><th>moda_plan_days</th><th>moda_plan_price</th><th>total_amount_paid</th><th>autorenew_rate</th><th>cancel_rate</th><th>membership_expire_date</th></tr><tr><td>str</td><td>str</td><td>f64</td><td>f64</td><td>f64</td><td>f64</td><td>f64</td><td>f64</td><td>str</td></tr></thead><tbody><tr><td>&quot;count&quot;</td><td>&quot;2352052&quot;</td><td>2.352052e6</td><td>2.352052e6</td><td>2.352052e6</td><td>2.352052e6</td><td>2.352052e6</td><td>2.352052e6</td><td>&quot;2352052&quot;</td></tr><tr><td>&quot;null_count&quot;</td><td>&quot;0&quot;</td><td>0.0</td><td>0.0</td><td>0.0</td><td>0.0</td><td>0.0</td><td>0.0</td><td>&quot;0&quot;</td></tr><tr><td>&quot;mean&quot;</td><td>null</td><td>9.001041</td><td>40.945982</td><td>175.282611</td><td>1280.408755</td><td>0.60543</td><td>0.081863</td><td>&quot;41 days, 15:49:29.401000&quot;</td></tr><tr><td>&quot;std&quot;</td><td>null</td><td>8.767828</td><td>68.903841</td><td>295.419297</td><td>1286.975523</td><td>0.477834</td><td>0.173027</td><td>null</td></tr><tr><td>&quot;min&quot;</td><td>&quot;+++FOrTS7ab3tIgIh8eWwX4FqRv8w/…</td><td>1.0</td><td>0.0</td><td>0.0</td><td>0.0</td><td>0.0</td><td>0.0</td><td>&quot;0:00:00&quot;</td></tr><tr><td>&quot;25%&quot;</td><td>null</td><td>1.0</td><td>30.0</td><td>99.0</td><td>0.0</td><td>0.0</td><td>0.0</td><td>&quot;7 days, 0:00:00&quot;</td></tr><tr><td>&quot;50%&quot;</td><td>null</td><td>5.0</td><td>30.0</td><td>149.0</td><td>894.0</td><td>1.0</td><td>0.0</td><td>&quot;28 days, 0:00:00&quot;</td></tr><tr><td>&quot;75%&quot;</td><td>null</td><td>16.0</td><td>30.0</td><td>149.0</td><td>2086.0</td><td>1.0</td><td>0.0625</td><td>&quot;30 days, 0:00:00&quot;</td></tr><tr><td>&quot;max&quot;</td><td>&quot;zzzyOgMk9MljCerbCCYrVtvu85aSCi…</td><td>71.0</td><td>450.0</td><td>2000.0</td><td>8138.0</td><td>1.0</td><td>1.0</td><td>&quot;814 days, 0:00:00&quot;</td></tr></tbody></table></div>"
      ],
      "text/plain": [
       "shape: (9, 9)\n",
       "┌───────────┬───────────┬───────────┬───────────┬───┬───────────┬───────────┬───────────┬──────────┐\n",
       "│ statistic ┆ msno      ┆ num_trans ┆ moda_plan ┆ … ┆ total_amo ┆ autorenew ┆ cancel_ra ┆ membersh │\n",
       "│ ---       ┆ ---       ┆ actions   ┆ _days     ┆   ┆ unt_paid  ┆ _rate     ┆ te        ┆ ip_expir │\n",
       "│ str       ┆ str       ┆ ---       ┆ ---       ┆   ┆ ---       ┆ ---       ┆ ---       ┆ e_date   │\n",
       "│           ┆           ┆ f64       ┆ f64       ┆   ┆ f64       ┆ f64       ┆ f64       ┆ ---      │\n",
       "│           ┆           ┆           ┆           ┆   ┆           ┆           ┆           ┆ str      │\n",
       "╞═══════════╪═══════════╪═══════════╪═══════════╪═══╪═══════════╪═══════════╪═══════════╪══════════╡\n",
       "│ count     ┆ 2352052   ┆ 2.352052e ┆ 2.352052e ┆ … ┆ 2.352052e ┆ 2.352052e ┆ 2.352052e ┆ 2352052  │\n",
       "│           ┆           ┆ 6         ┆ 6         ┆   ┆ 6         ┆ 6         ┆ 6         ┆          │\n",
       "│ null_coun ┆ 0         ┆ 0.0       ┆ 0.0       ┆ … ┆ 0.0       ┆ 0.0       ┆ 0.0       ┆ 0        │\n",
       "│ t         ┆           ┆           ┆           ┆   ┆           ┆           ┆           ┆          │\n",
       "│ mean      ┆ null      ┆ 9.001041  ┆ 40.945982 ┆ … ┆ 1280.4087 ┆ 0.60543   ┆ 0.081863  ┆ 41 days, │\n",
       "│           ┆           ┆           ┆           ┆   ┆ 55        ┆           ┆           ┆ 15:49:29 │\n",
       "│           ┆           ┆           ┆           ┆   ┆           ┆           ┆           ┆ .401000  │\n",
       "│ std       ┆ null      ┆ 8.767828  ┆ 68.903841 ┆ … ┆ 1286.9755 ┆ 0.477834  ┆ 0.173027  ┆ null     │\n",
       "│           ┆           ┆           ┆           ┆   ┆ 23        ┆           ┆           ┆          │\n",
       "│ min       ┆ +++FOrTS7 ┆ 1.0       ┆ 0.0       ┆ … ┆ 0.0       ┆ 0.0       ┆ 0.0       ┆ 0:00:00  │\n",
       "│           ┆ ab3tIgIh8 ┆           ┆           ┆   ┆           ┆           ┆           ┆          │\n",
       "│           ┆ eWwX4FqRv ┆           ┆           ┆   ┆           ┆           ┆           ┆          │\n",
       "│           ┆ 8w/…      ┆           ┆           ┆   ┆           ┆           ┆           ┆          │\n",
       "│ 25%       ┆ null      ┆ 1.0       ┆ 30.0      ┆ … ┆ 0.0       ┆ 0.0       ┆ 0.0       ┆ 7 days,  │\n",
       "│           ┆           ┆           ┆           ┆   ┆           ┆           ┆           ┆ 0:00:00  │\n",
       "│ 50%       ┆ null      ┆ 5.0       ┆ 30.0      ┆ … ┆ 894.0     ┆ 1.0       ┆ 0.0       ┆ 28 days, │\n",
       "│           ┆           ┆           ┆           ┆   ┆           ┆           ┆           ┆ 0:00:00  │\n",
       "│ 75%       ┆ null      ┆ 16.0      ┆ 30.0      ┆ … ┆ 2086.0    ┆ 1.0       ┆ 0.0625    ┆ 30 days, │\n",
       "│           ┆           ┆           ┆           ┆   ┆           ┆           ┆           ┆ 0:00:00  │\n",
       "│ max       ┆ zzzyOgMk9 ┆ 71.0      ┆ 450.0     ┆ … ┆ 8138.0    ┆ 1.0       ┆ 1.0       ┆ 814      │\n",
       "│           ┆ MljCerbCC ┆           ┆           ┆   ┆           ┆           ┆           ┆ days,    │\n",
       "│           ┆ YrVtvu85a ┆           ┆           ┆   ┆           ┆           ┆           ┆ 0:00:00  │\n",
       "│           ┆ SCi…      ┆           ┆           ┆   ┆           ┆           ┆           ┆          │\n",
       "└───────────┴───────────┴───────────┴───────────┴───┴───────────┴───────────┴───────────┴──────────┘"
      ]
     },
     "execution_count": 17,
     "metadata": {},
     "output_type": "execute_result"
    }
   ],
   "source": [
    "df_test.describe()"
   ]
  },
  {
   "cell_type": "code",
   "execution_count": 18,
   "id": "e1f688a2",
   "metadata": {},
   "outputs": [
    {
     "data": {
      "text/html": [
       "<div><style>\n",
       ".dataframe > thead > tr,\n",
       ".dataframe > tbody > tr {\n",
       "  text-align: right;\n",
       "  white-space: pre-wrap;\n",
       "}\n",
       "</style>\n",
       "<small>shape: (1, 1)</small><table border=\"1\" class=\"dataframe\"><thead><tr><th>len</th></tr><tr><td>u32</td></tr></thead><tbody><tr><td>591771</td></tr></tbody></table></div>"
      ],
      "text/plain": [
       "shape: (1, 1)\n",
       "┌────────┐\n",
       "│ len    │\n",
       "│ ---    │\n",
       "│ u32    │\n",
       "╞════════╡\n",
       "│ 591771 │\n",
       "└────────┘"
      ]
     },
     "execution_count": 18,
     "metadata": {},
     "output_type": "execute_result"
    }
   ],
   "source": [
    "df_test.filter(pl.col(\"num_transactions\") == 1).select(pl.len())"
   ]
  },
  {
   "cell_type": "markdown",
   "id": "6748acb4",
   "metadata": {},
   "source": [
    "Observando esto, veo que la mayoria de clientes tienen una unica transaccion(~55%), por lo tanto estos 3 datasets no son suficientes para poder comprobar y calcular Churn. Tendre que utilizar user_logs, que tiene un peso total de 30 Gb. \n",
    "\n",
    "Con este dataset es donde es mas importante utilizar LazyFrame de Polars, los 30GB no caben en RAM"
   ]
  },
  {
   "cell_type": "code",
   "execution_count": 19,
   "id": "309697f9",
   "metadata": {},
   "outputs": [],
   "source": [
    "#df_user_logs.collect_schema()"
   ]
  },
  {
   "cell_type": "code",
   "execution_count": 20,
   "id": "88574570",
   "metadata": {},
   "outputs": [],
   "source": [
    "#df.select(pl.len()).collect().item(), df.collect_schema().len()"
   ]
  },
  {
   "cell_type": "code",
   "execution_count": 21,
   "id": "223ce2bb",
   "metadata": {},
   "outputs": [],
   "source": [
    "#df_user_logs.fetch(5)"
   ]
  },
  {
   "cell_type": "markdown",
   "id": "3b432577",
   "metadata": {},
   "source": [
    "Con esto tengo algo de contexto del dataset, ahora convertire la variable date a fecha y le aplicare el cutoff.\n",
    "\n",
    "Despues creare el resto de variables agrupando por msno, asi consigo reducir las dimensiones de mi dataset, manteniendo toda la informacion importante"
   ]
  },
  {
   "cell_type": "code",
   "execution_count": null,
   "id": "f99eb5a3",
   "metadata": {},
   "outputs": [
    {
     "name": "stderr",
     "output_type": "stream",
     "text": [
      "C:\\Users\\Carlos\\AppData\\Local\\Temp\\ipykernel_22500\\334413613.py:25: DeprecationWarning: the `streaming` parameter was deprecated in 1.25.0; use `engine` instead.\n",
      "  .collect(streaming=True)\n"
     ]
    }
   ],
   "source": [
    "df_logs = (\n",
    "    df_user_logs\n",
    "    .with_columns(\n",
    "        pl.col(\"date\").cast(pl.Utf8).str.strptime(pl.Date, \"%Y%m%d\", strict=True)\n",
    "    )\n",
    "    .filter(pl.col(\"date\") <= pl.lit(cutoff_date))\n",
    "    .group_by('msno')\n",
    "    .agg([\n",
    "        pl.col('date').n_unique().alias('active_days'),\n",
    "        pl.col('num_25').sum().alias('total_25'),\n",
    "        pl.col('num_50').sum().alias('total_50'),\n",
    "        pl.col('num_75').sum().alias('total_75'),\n",
    "        pl.col('num_985').sum().alias('total_985'),\n",
    "        pl.col('num_100').sum().alias('total_100'),\n",
    "        pl.col('num_unq').sum().alias('unique_song_listened'),\n",
    "        pl.col('num_unq').max().alias('max_unique_per_day'),\n",
    "        pl.col('total_secs').sum().alias('total_sec_listened'),\n",
    "        pl.col('date').min().alias('first_activity'),\n",
    "        pl.col('date').max().alias('last_activity')\n",
    "    ])\n",
    "    .with_columns([\n",
    "        (pl.col('last_activity') - pl.col('first_activity')).dt.total_days().alias('lifetime_days'),\n",
    "        (pl.col('total_sec_listened')/ pl.col('active_days') + 1e-9).alias('avg_sec_active_day')\n",
    "    ])\n",
    "    .collect(engine='streaming')  \n",
    ")"
   ]
  },
  {
   "cell_type": "markdown",
   "id": "dbf9c70d",
   "metadata": {},
   "source": [
    "Ahora unire mis 4 datasets usando *msno* como clave"
   ]
  },
  {
   "cell_type": "code",
   "execution_count": null,
   "id": "dfe61ae4",
   "metadata": {},
   "outputs": [],
   "source": [
    "df_processed = (\n",
    "    pl.scan_parquet(df_train)  # Asume que df_train ya está en Parquet\n",
    "    .join(pl.scan_parquet(df_members), on='msno', how='left')\n",
    "    .join(df_logs.lazy(), on='msno', how='left')  # Convierte df_logs a lazy\n",
    "    .join(pl.scan_parquet(df_transactions), on='msno', how='left')\n",
    "    .collect(streaming=True)  # Streaming también aquí\n",
    ")\n",
    "\n",
    "print(df_processed.explain(engine='streaming'))\n",
    "\n",
    "#df_processed.sink_parquet((PROCESSED_DIR/'data_processed.parquet'))\n",
    "#print('DataFrame procesado correctamente para EDA.')"
   ]
  },
  {
   "cell_type": "markdown",
   "id": "cf607c4c",
   "metadata": {},
   "source": [
    "Por falta de RAM, voy a utilizar pyspark para el preprocesado, utilizando lo mismo que en este notebook\n"
   ]
  }
 ],
 "metadata": {
  "kernelspec": {
   "display_name": "geeks",
   "language": "python",
   "name": "python3"
  },
  "language_info": {
   "codemirror_mode": {
    "name": "ipython",
    "version": 3
   },
   "file_extension": ".py",
   "mimetype": "text/x-python",
   "name": "python",
   "nbconvert_exporter": "python",
   "pygments_lexer": "ipython3",
   "version": "3.12.9"
  }
 },
 "nbformat": 4,
 "nbformat_minor": 5
}
